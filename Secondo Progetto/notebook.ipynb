{
 "cells": [
  {
   "attachments": {},
   "cell_type": "markdown",
   "metadata": {},
   "source": [
    "# Secondo progetto di Social Computing"
   ]
  },
  {
   "cell_type": "code",
   "execution_count": 83,
   "metadata": {},
   "outputs": [],
   "source": [
    "import pandas as pd\n",
    "\n",
    "# importaimo il file .csv usando la libreria Pandas\n",
    "df = pd.read_csv(\"group_5-Palma-Sacchet-Sagliocca.csv\")"
   ]
  },
  {
   "cell_type": "code",
   "execution_count": 84,
   "metadata": {},
   "outputs": [],
   "source": [
    "# %load utils.py\n",
    "import json\n",
    "import os\n",
    "\n",
    "\n",
    "def serealize_json(folder, filename, data):\n",
    "    if not os.path.exists(folder):\n",
    "        os.makedirs(folder,exist_ok=True)\n",
    "    with open(f\"{folder}/{filename}.json\", \"w\", encoding=\"utf-8\") as f:\n",
    "        json.dump(data,f,ensure_ascii=False,indent=4)\n",
    "        f.close()\n",
    "    print(f\"Data serialized to path: {folder}/{filename}.json\")\n",
    "\n",
    "def read_json(path):\n",
    "    try:\n",
    "        if os.path.exists(path):\n",
    "            with open(path, \"r\", encoding=\"utf-8\") as file:\n",
    "                data = json.load(file)\n",
    "            return data\n",
    "    except ValueError:\n",
    "        print(\"Path not found, check the correctness of the path\")"
   ]
  },
  {
   "cell_type": "code",
   "execution_count": 89,
   "metadata": {},
   "outputs": [
    {
     "name": "stdout",
     "output_type": "stream",
     "text": [
      "RandomID = 25842\n",
      "Data serialized to path: ./hits.json\n"
     ]
    }
   ],
   "source": [
    "import random\n",
    "from nanoid import generate\n",
    "# Alfabeto utilizzato da nanodi per generare gli ID dei HIT\n",
    "alphabet = \"ABCDEFGHIJKLMNOPQRSTUVWXYZ\"\n",
    "# Inizializzo la variabile che conterrà tutti gli elementi di un HIT\n",
    "documents = []\n",
    "# Inizializzo la variabile units, essa conterrà tutti gli HIT\n",
    "units = []\n",
    "# Prendo in maniera randomica un id dal dataframe, questo ci permetterà di\n",
    "# assegnare explanation_human in maniera casuale\n",
    "randomId = df.sample().iloc()[0]['id']\n",
    "\n",
    "# Creo i tre elementi dell'HIT con i corrispettivi attributi\n",
    "for index, row in df.iterrows():\n",
    "    document = {\n",
    "        'id': row['id'],\n",
    "        'statement': row['statement'],\n",
    "    }\n",
    "    if (row['id'] == randomId):\n",
    "        document['explanation'] = row['explanation_human']\n",
    "    else:\n",
    "        document['explanation'] = row['explanation_model']\n",
    "    document['label'] = row['label']\n",
    "    \n",
    "    documents.append(document)\n",
    "\n",
    "# Stampo l'id dell'elemento che ha explanation_human\n",
    "print(f'RandomID = {randomId}')\n",
    "\n",
    "# Mescolo a random gli elementi dell'HIT\n",
    "random.shuffle(documents)\n",
    "\n",
    "# Creo l'HIT. Lo chiamo unit dato che deve essere chiamato\n",
    "# così nel file .json risultate\n",
    "unit = {\n",
    "    'unit_id': 'unit_0',\n",
    "    'token_input': generate(alphabet,size=11), # Genera ID di 11 caratteri\n",
    "    'token_output': generate(alphabet,size=11), # Genera ID di 11 caratteri\n",
    "    'documents_number': len(documents),\n",
    "    'documents': documents\n",
    "}\n",
    "\n",
    "units.append(unit)\n",
    "serealize_json(\".\",\"hits\",units)"
   ]
  }
 ],
 "metadata": {
  "kernelspec": {
   "display_name": "base",
   "language": "python",
   "name": "python3"
  },
  "language_info": {
   "codemirror_mode": {
    "name": "ipython",
    "version": 3
   },
   "file_extension": ".py",
   "mimetype": "text/x-python",
   "name": "python",
   "nbconvert_exporter": "python",
   "pygments_lexer": "ipython3",
   "version": "3.9.12"
  },
  "orig_nbformat": 4,
  "vscode": {
   "interpreter": {
    "hash": "b3c36198a59ad4403c7a551e6916c61a78e0010e1ee5e0850198f49740cf93cd"
   }
  }
 },
 "nbformat": 4,
 "nbformat_minor": 2
}
