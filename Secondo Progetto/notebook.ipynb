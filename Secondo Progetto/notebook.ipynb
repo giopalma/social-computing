{
 "cells": [
  {
   "attachments": {},
   "cell_type": "markdown",
   "metadata": {},
   "source": [
    "# Secondo progetto di Social Computing"
   ]
  },
  {
   "cell_type": "code",
   "execution_count": 70,
   "metadata": {},
   "outputs": [],
   "source": [
    "import pandas as pd\n",
    "\n",
    "# importaimo il file .csv usando la libreria Pandas\n",
    "df = pd.read_csv(\"group_5-Palma-Sacchet-Sagliocca.csv\")"
   ]
  },
  {
   "cell_type": "code",
   "execution_count": 71,
   "metadata": {},
   "outputs": [],
   "source": [
    "# %load utils.py\n",
    "import json\n",
    "import os\n",
    "\n",
    "\n",
    "def serealize_json(folder, filename, data):\n",
    "    if not os.path.exists(folder):\n",
    "        os.makedirs(folder,exist_ok=True)\n",
    "    with open(f\"{folder}/{filename}.json\", \"w\", encoding=\"utf-8\") as f:\n",
    "        json.dump(data,f,ensure_ascii=False,indent=4)\n",
    "        f.close()\n",
    "    print(f\"Data serialized to path: {folder}/{filename}.json\")\n",
    "\n",
    "def read_json(path):\n",
    "    try:\n",
    "        if os.path.exists(path):\n",
    "            with open(path, \"r\", encoding=\"utf-8\") as file:\n",
    "                data = json.load(file)\n",
    "            return data\n",
    "    except ValueError:\n",
    "        print(\"Path not found, check the correctness of the path\")"
   ]
  },
  {
   "cell_type": "code",
   "execution_count": 72,
   "metadata": {},
   "outputs": [],
   "source": [
    "# Funziona che permette di crere un elemento di un HIT (document)\n",
    "def document_factory(row,human:bool):\n",
    "    document = {\n",
    "        'id': f'{row['id']}',\n",
    "        'statement': row['statement'],\n",
    "        'explanation': row['explanation_human'] if human else row['explanation_model'],\n",
    "        'label': row['label']\n",
    "    }\n",
    "    return document"
   ]
  },
  {
   "cell_type": "code",
   "execution_count": 73,
   "metadata": {},
   "outputs": [],
   "source": [
    "import random\n",
    "from nanoid import generate\n",
    "# Alfabeto utilizzato da nanodi per generare gli ID dei HIT\n",
    "alphabet = \"ABCDEFGHIJKLMNOPQRSTUVWXYZ\"\n",
    "\n",
    "# Funzione per generare un HIT\n",
    "def hit_factory(index:int):\n",
    "\n",
    "    documents = []\n",
    "\n",
    "    # L'obiettivo è selezionare d'apprima una coppia di righe tra le tre, queste avranno le spiegazioni generate\n",
    "    model_df = df.sample(2)\n",
    "    # E successivamente selezionare un altra riga sempre tra le tre, ques'ultima avrà la spiegazione umana\n",
    "    human_df = df.sample()\n",
    "\n",
    "    # Aggiungo i due elementi con explanation_model all'HIT\n",
    "    for _, row in model_df.iterrows():\n",
    "        document = document_factory(row,False)\n",
    "        documents.append(document)\n",
    "    # Aggiungo l'elemento con explanation_human all'HIT\n",
    "    for _, row in human_df.iterrows():\n",
    "        document = document_factory(row,True)\n",
    "        documents.append(document)\n",
    "\n",
    "    # Mescolo casualmente gli elementi dell'HIT\n",
    "    random.shuffle(documents)\n",
    "\n",
    "    # Creo l'HIT\n",
    "    hit = {\n",
    "        'unit_id': f'unit_{index}',\n",
    "        'token_input': generate(alphabet,size=11), # Genera ID di 11 caratteri\n",
    "        'token_output': generate(alphabet,size=11), # Genera ID di 11 caratteri\n",
    "        'documents_number': len(documents),\n",
    "        'documents': documents\n",
    "    }\n",
    "    \n",
    "    return hit"
   ]
  },
  {
   "cell_type": "code",
   "execution_count": 74,
   "metadata": {},
   "outputs": [
    {
     "name": "stdout",
     "output_type": "stream",
     "text": [
      "Data serialized to path: ./hits.json\n"
     ]
    }
   ],
   "source": [
    "# Inizializzo l'array dove mettero gli HITs\n",
    "hits = []\n",
    "\n",
    "# Genero i 12 HITs\n",
    "for i in range(12):\n",
    "    hit = hit_factory(i)\n",
    "    hits.append(hit)\n",
    "\n",
    "serealize_json(\".\",\"hits\",hits)"
   ]
  },
  {
   "attachments": {},
   "cell_type": "markdown",
   "metadata": {},
   "source": [
    "# Analisi dei dati"
   ]
  },
  {
   "cell_type": "code",
   "execution_count": 53,
   "metadata": {},
   "outputs": [],
   "source": [
    "import pandas as pd\n",
    "import re"
   ]
  },
  {
   "attachments": {},
   "cell_type": "markdown",
   "metadata": {},
   "source": [
    "## Punto 10"
   ]
  },
  {
   "cell_type": "code",
   "execution_count": 61,
   "metadata": {},
   "outputs": [
    {
     "name": "stdout",
     "output_type": "stream",
     "text": [
      "Percentuale media di testo annotato: 33.05%\n"
     ]
    }
   ],
   "source": [
    "# Carico il file csv da dove ricavo i dati\n",
    "dataframe = pd.read_csv(\"csv/workers_notes.csv\")\n",
    "\n",
    "# Filtro solo le colonne che mi interessano\n",
    "note_df = dataframe[['note_text_raw', 'note_text_left', 'note_text_right']]\n",
    "# Converto le frasi in numeri (contando il numero di parole). Utilizzo regex per non considerare la punteggiatura\n",
    "note_df_num = note_df.applymap(lambda x: len(re.findall(r'\\w+', str(x))))\n",
    "# Aggiungo una nuova colonna con il totale delle parole\n",
    "note_df_num['note_text_total'] = note_df_num['note_text_raw'] + note_df_num['note_text_left'] + note_df_num['note_text_right']\n",
    "# Aggiungo una nuova colonna con il valore percentuale\n",
    "note_df_num['percentual'] = (note_df_num['note_text_raw'] / note_df_num['note_text_total']) * 100\n",
    "# Calcolo la percentuale media\n",
    "mean = note_df_num['note_text_total'].mean()\n",
    "# Mostro il risultato\n",
    "print(f\"Percentuale media di testo annotato: {round(mean,2)}%\")"
   ]
  },
  {
   "attachments": {},
   "cell_type": "markdown",
   "metadata": {},
   "source": [
    "# Punto 12"
   ]
  },
  {
   "cell_type": "code",
   "execution_count": 94,
   "metadata": {},
   "outputs": [
    {
     "data": {
      "text/html": [
       "<div>\n",
       "<style scoped>\n",
       "    .dataframe tbody tr th:only-of-type {\n",
       "        vertical-align: middle;\n",
       "    }\n",
       "\n",
       "    .dataframe tbody tr th {\n",
       "        vertical-align: top;\n",
       "    }\n",
       "\n",
       "    .dataframe thead th {\n",
       "        text-align: right;\n",
       "    }\n",
       "</style>\n",
       "<table border=\"1\" class=\"dataframe\">\n",
       "  <thead>\n",
       "    <tr style=\"text-align: right;\">\n",
       "      <th></th>\n",
       "      <th>paid</th>\n",
       "      <th>try_last</th>\n",
       "      <th>try_current</th>\n",
       "      <th>dimension_index</th>\n",
       "      <th>timestamp_start</th>\n",
       "      <th>selection_index</th>\n",
       "      <th>selection_value</th>\n",
       "      <th>selection_timestamp</th>\n",
       "      <th>selection_time_elapsed</th>\n",
       "      <th>timestamp_end</th>\n",
       "      <th>document_index</th>\n",
       "    </tr>\n",
       "    <tr>\n",
       "      <th>document_id</th>\n",
       "      <th></th>\n",
       "      <th></th>\n",
       "      <th></th>\n",
       "      <th></th>\n",
       "      <th></th>\n",
       "      <th></th>\n",
       "      <th></th>\n",
       "      <th></th>\n",
       "      <th></th>\n",
       "      <th></th>\n",
       "      <th></th>\n",
       "    </tr>\n",
       "  </thead>\n",
       "  <tbody>\n",
       "    <tr>\n",
       "      <th>1520</th>\n",
       "      <td>6.200000</td>\n",
       "      <td>6.200000</td>\n",
       "      <td>6.200000</td>\n",
       "      <td>5.600000</td>\n",
       "      <td>1.037430e+10</td>\n",
       "      <td>9.800000</td>\n",
       "      <td>125.800000</td>\n",
       "      <td>1.037430e+10</td>\n",
       "      <td>443.357200</td>\n",
       "      <td>1.037430e+10</td>\n",
       "      <td>8.000000</td>\n",
       "    </tr>\n",
       "    <tr>\n",
       "      <th>25842</th>\n",
       "      <td>5.333333</td>\n",
       "      <td>5.333333</td>\n",
       "      <td>5.333333</td>\n",
       "      <td>5.111111</td>\n",
       "      <td>8.924056e+09</td>\n",
       "      <td>12.333333</td>\n",
       "      <td>224.777778</td>\n",
       "      <td>8.924057e+09</td>\n",
       "      <td>301.741667</td>\n",
       "      <td>8.924057e+09</td>\n",
       "      <td>6.000000</td>\n",
       "    </tr>\n",
       "    <tr>\n",
       "      <th>41947</th>\n",
       "      <td>4.500000</td>\n",
       "      <td>4.500000</td>\n",
       "      <td>4.500000</td>\n",
       "      <td>4.333333</td>\n",
       "      <td>7.529652e+09</td>\n",
       "      <td>5.583333</td>\n",
       "      <td>134.000000</td>\n",
       "      <td>7.529653e+09</td>\n",
       "      <td>304.114833</td>\n",
       "      <td>7.529653e+09</td>\n",
       "      <td>3.833333</td>\n",
       "    </tr>\n",
       "  </tbody>\n",
       "</table>\n",
       "</div>"
      ],
      "text/plain": [
       "                 paid  try_last  try_current  dimension_index  \\\n",
       "document_id                                                     \n",
       "1520         6.200000  6.200000     6.200000         5.600000   \n",
       "25842        5.333333  5.333333     5.333333         5.111111   \n",
       "41947        4.500000  4.500000     4.500000         4.333333   \n",
       "\n",
       "             timestamp_start  selection_index  selection_value  \\\n",
       "document_id                                                      \n",
       "1520            1.037430e+10         9.800000       125.800000   \n",
       "25842           8.924056e+09        12.333333       224.777778   \n",
       "41947           7.529652e+09         5.583333       134.000000   \n",
       "\n",
       "             selection_timestamp  selection_time_elapsed  timestamp_end  \\\n",
       "document_id                                                               \n",
       "1520                1.037430e+10              443.357200   1.037430e+10   \n",
       "25842               8.924057e+09              301.741667   8.924057e+09   \n",
       "41947               7.529653e+09              304.114833   7.529653e+09   \n",
       "\n",
       "             document_index  \n",
       "document_id                  \n",
       "1520               8.000000  \n",
       "25842              6.000000  \n",
       "41947              3.833333  "
      ]
     },
     "execution_count": 94,
     "metadata": {},
     "output_type": "execute_result"
    }
   ],
   "source": [
    "dataframe = pd.read_csv(\"csv/workers_dimensions_selection.csv\")\n",
    "\n",
    "# Utilizzo la funzione groupby pre raggruppare per dimension, dopo di chè \n",
    "dataframe.groupby(by=[\"worker_id\", \"document_id\"]).sum().groupby(by=\"document_id\").mean()"
   ]
  }
 ],
 "metadata": {
  "kernelspec": {
   "display_name": "base",
   "language": "python",
   "name": "python3"
  },
  "language_info": {
   "codemirror_mode": {
    "name": "ipython",
    "version": 3
   },
   "file_extension": ".py",
   "mimetype": "text/x-python",
   "name": "python",
   "nbconvert_exporter": "python",
   "pygments_lexer": "ipython3",
   "version": "3.9.12"
  },
  "orig_nbformat": 4,
  "vscode": {
   "interpreter": {
    "hash": "b3c36198a59ad4403c7a551e6916c61a78e0010e1ee5e0850198f49740cf93cd"
   }
  }
 },
 "nbformat": 4,
 "nbformat_minor": 2
}
