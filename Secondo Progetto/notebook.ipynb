{
 "cells": [
  {
   "attachments": {},
   "cell_type": "markdown",
   "metadata": {},
   "source": [
    "# Secondo progetto di Social Computing"
   ]
  },
  {
   "cell_type": "code",
   "execution_count": 24,
   "metadata": {},
   "outputs": [],
   "source": [
    "import pandas as pd\n",
    "\n",
    "# importaimo il file .csv usando la libreria Pandas\n",
    "df = pd.read_csv(\"group_5-Palma-Sacchet-Sagliocca.csv\")"
   ]
  },
  {
   "cell_type": "code",
   "execution_count": 75,
   "metadata": {},
   "outputs": [
    {
     "name": "stdout",
     "output_type": "stream",
     "text": [
      "RandomID = 1520\n",
      "[{'id': 25842, 'statement': 'Saw II sold over 3 million units.', 'explanation': 'The claim is that Saw II sold over 3 million units. The evidence says that Saw II was released to DVD and topped charts its first week, selling more than 3 million units. So we can infer that the claim is true.', 'label': 'SUPPORTS'}, {'id': 41947, 'statement': 'Matthew Gray Gubler is not an actor.', 'explanation': 'The claim is that Matthew Gray Gubler is not an actor. The evidence says that he is an American actor. So, the claim is false.', 'label': 'REFUTES'}, {'id': 1520, 'statement': 'Azithromycin is sold under different trade names.', 'explanation': '\"The relevant information about the claim is lacking in the context.\"', 'label': 'SUPPORTS'}]\n"
     ]
    }
   ],
   "source": [
    "documents = []\n",
    "\n",
    "randomId = df.sample().iloc()[0]['id']\n",
    "\n",
    "for index, row in df.iterrows():\n",
    "    document = {\n",
    "        'id': row['id'],\n",
    "        'statement': row['statement'],\n",
    "    }\n",
    "    if (row['id'] == randomId):\n",
    "        document['explanation'] = row['explanation_human']\n",
    "    else:\n",
    "        document['explanation'] = row['explanation_model']\n",
    "    document['label'] = row['label']\n",
    "    \n",
    "    documents.append(document)\n",
    "\n",
    "print(f'RandomID = {randomId}')\n",
    "print(documents)"
   ]
  }
 ],
 "metadata": {
  "kernelspec": {
   "display_name": "base",
   "language": "python",
   "name": "python3"
  },
  "language_info": {
   "codemirror_mode": {
    "name": "ipython",
    "version": 3
   },
   "file_extension": ".py",
   "mimetype": "text/x-python",
   "name": "python",
   "nbconvert_exporter": "python",
   "pygments_lexer": "ipython3",
   "version": "3.9.12"
  },
  "orig_nbformat": 4,
  "vscode": {
   "interpreter": {
    "hash": "b3c36198a59ad4403c7a551e6916c61a78e0010e1ee5e0850198f49740cf93cd"
   }
  }
 },
 "nbformat": 4,
 "nbformat_minor": 2
}
