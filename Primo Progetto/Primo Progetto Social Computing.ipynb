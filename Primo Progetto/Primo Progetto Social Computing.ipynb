{
 "cells": [
  {
   "cell_type": "code",
   "execution_count": 1,
   "metadata": {},
   "outputs": [],
   "source": [
    "# Importare le librerie\n",
    "import tweepy\n",
    "from dotenv import dotenv_values\n",
    "# Importare le variabili d'ambiente dal file .env\n",
    "config = dotenv_values(\".env\")"
   ]
  },
  {
   "cell_type": "code",
   "execution_count": 2,
   "metadata": {},
   "outputs": [],
   "source": [
    "# %load utils.py\n",
    "import json\n",
    "import os\n",
    "\n",
    "\n",
    "def serealize_json(folder, filename, data):\n",
    "    if not os.path.exists(folder):\n",
    "        os.makedirs(folder,exist_ok=True)\n",
    "    with open(f\"{folder}/{filename}.json\", \"w\", encoding=\"utf-8\") as f:\n",
    "        json.dump(data,f,ensure_ascii=False,indent=4)\n",
    "        f.close()\n",
    "    print(f\"Data serialized to path: {folder}/{filename}.json\")\n",
    "\n",
    "def read_json(path):\n",
    "    try:\n",
    "        if os.path.exists(path):\n",
    "            with open(path, \"r\", encoding=\"utf-8\") as file:\n",
    "                data = json.load(file)\n",
    "            return data\n",
    "    except ValueError:\n",
    "        print(\"Path not found, check the correctness of the path\")"
   ]
  },
  {
   "cell_type": "markdown",
   "metadata": {},
   "source": [
    "## Punto 1"
   ]
  },
  {
   "cell_type": "markdown",
   "metadata": {},
   "source": [
    "Creiamo un client Tweepy utilizzando il `BREARER_TOKEN` presente nel file `.env` e caricato tramite la libreria `dotenv`."
   ]
  },
  {
   "cell_type": "code",
   "execution_count": 3,
   "metadata": {},
   "outputs": [],
   "source": [
    "# Nuovo client Tweepy\n",
    "client = tweepy.Client(bearer_token=config[\"BEARER_TOKEN\"],wait_on_rate_limit=True)"
   ]
  },
  {
   "cell_type": "markdown",
   "metadata": {},
   "source": [
    "Utilizzando la funzione `get_user()` inviamo la richiesta per ricavare le informazioni di default, aggiungiamo inoltre le opportune `user_fields` per ricavare ulteriori informazioni dell'utente, come descrizione, stato di protezione, metriche pubbliche.  \n",
    "Ricaviamo l'utente `kevin` dal corpo della risposta."
   ]
  },
  {
   "cell_type": "code",
   "execution_count": 9,
   "metadata": {},
   "outputs": [
    {
     "name": "stdout",
     "output_type": "stream",
     "text": [
      "Data serialized to path: out/Kevin.json\n"
     ]
    }
   ],
   "source": [
    "# Fetching dell'utente @KevinRoitero\n",
    "kevin = client.get_user(username=\"KevinRoitero\").data\n",
    "# Ricavo i followers di Kevin\n",
    "followers = client.get_users_followers(id=kevin.id, user_fields=[\"public_metrics\", \"protected\", \"description\"]).data\n",
    "# Inizializzo una lista dove andrò a mettere i follower con i dati aggiuntivi\n",
    "follower_dict = {}\n",
    "for user in followers:\n",
    "    user_dict = {\n",
    "        'name': user.name,\n",
    "        'username': user.username,\n",
    "        'description': user.description,\n",
    "        'public_metrics': user.public_metrics,\n",
    "        'protected': user.protected\n",
    "    }\n",
    "    follower_dict[user.id] = user_dict\n",
    "\n",
    "# Serealizzo la lista in un file json\n",
    "serealize_json(\"out\", \"Kevin\", follower_dict)"
   ]
  },
  {
   "cell_type": "markdown",
   "metadata": {},
   "source": [
    "## Punto 2"
   ]
  },
  {
   "cell_type": "markdown",
   "metadata": {},
   "source": [
    "Tramite la funzione `get_users_followers()` ricavo la lista dei follower che seguono l'utente `kevin`. Successivamente per ogni follower, tramite `get_recent_tweets_count()`, ricavo, con scadenza giornaliera, il numero dei tweets recenti (negli ultimi 7 giorni). Per ricavare un valore unico settimanale, sommo i valori giornalieri in una variabile denominata `last_week_tweets_count`. Infine creo una directory temporanea, rappresentativa del follower, aggiundo varie informazioni riguardante esso, come: id, nome, username e il numero di tweets recenti (calcolato precedentemente). Aggiungo la directory ad una lista precedentemente inizializzata e successivamente aggiunto tale lista all'interno della directory principale `kevin_dict` all'interno della voce `followers`."
   ]
  },
  {
   "cell_type": "code",
   "execution_count": 12,
   "metadata": {},
   "outputs": [
    {
     "name": "stdout",
     "output_type": "stream",
     "text": [
      "Data serialized to path: out/Kevin.json\n"
     ]
    }
   ],
   "source": [
    "# Per ogni follower del profilo ricavare il numero di tweet pubblicati da quel profilo durante l'ultima settimana\n",
    "for follower in followers:\n",
    "    last_week_tweets_count = 0\n",
    "    recent_tweets_count = client.get_recent_tweets_count(query=f\"from:{follower.username} -is:retweet\",granularity=\"day\").data\n",
    "    for day in recent_tweets_count or []:\n",
    "            last_week_tweets_count += day[\"tweet_count\"]\n",
    "    follower_dict[follower.id]['last_week_tweets_count'] = last_week_tweets_count #aggiungo alle info di follower anche last_week_tweets_count\n",
    "# Aggiungere il numero di tweets nel JSON\n",
    "serealize_json(\"out\",\"Kevin\", follower_dict)"
   ]
  },
  {
   "cell_type": "markdown",
   "metadata": {},
   "source": [
    "## Punto 3"
   ]
  },
  {
   "cell_type": "code",
   "execution_count": 13,
   "metadata": {},
   "outputs": [
    {
     "name": "stderr",
     "output_type": "stream",
     "text": [
      "Rate limit exceeded. Sleeping for 897 seconds.\n"
     ]
    }
   ],
   "source": [
    "#TODO: Too Many Requests\n",
    "follower_id_filtrati = []  #filtro la lista di follower di kevin scegliendo solo i follower che hanno a loro volta almeno un follower e non sono protected\n",
    "\n",
    "for follower in followers: \n",
    "    follower_count = follower_dict[follower.id][\"public_metrics\"][\"followers_count\"]\n",
    "    protected = follower[\"protected\"]\n",
    "   \n",
    "    if (follower_count > 1 and protected == False):\n",
    "        follower_id_filtrati.append(follower.id)\n",
    "\n",
    "for follower_id in follower_id_filtrati: #per ogni utente tra gli utenti della lista filtrata di followers di kevin\n",
    "    follower_dict[follower_id][\"followers\"] = []\n",
    "\n",
    "    #per ogni follower di kevin scarico a sua volta 1000 suoi followers salvando per ciascuno di essi le stesse info del punto 1:\n",
    "    for response in tweepy.Paginator(client.get_users_followers, id=follower_id, user_fields=[\"public_metrics\", \"protected\", \"description\"], max_results = 1): #uso paginator perchè non so a priori quanti follower abbiano\n",
    "        #Dato che user non è serializzabile direttamente come JSON, serve un parsing:\n",
    "        current_user_follower_list=[]\n",
    "        for follower in response.data:\n",
    "            found_follower = {\n",
    "                          \"id\": follower[\"id\"],\n",
    "                          \"name\": follower[\"name\"],\n",
    "                          \"username\": follower[\"username\"],\n",
    "                        }\n",
    "            current_user_follower_list.append(found_follower)\n",
    "        follower_dict[follower_id][\"followers\"].append(current_user_follower_list)\n",
    "\n",
    "serealize_json(\"out\", \"follower-filtrati\", follower_dict)"
   ]
  }
 ],
 "metadata": {
  "kernelspec": {
   "display_name": "Python 3.9.13 ('social_computing')",
   "language": "python",
   "name": "python3"
  },
  "language_info": {
   "codemirror_mode": {
    "name": "ipython",
    "version": 3
   },
   "file_extension": ".py",
   "mimetype": "text/x-python",
   "name": "python",
   "nbconvert_exporter": "python",
   "pygments_lexer": "ipython3",
   "version": "3.9.13"
  },
  "orig_nbformat": 4,
  "vscode": {
   "interpreter": {
    "hash": "c9dac6bcba8d7b6ee5750fa4415f946c83492df91f8530c6063dfde8898bd260"
   }
  }
 },
 "nbformat": 4,
 "nbformat_minor": 2
}
