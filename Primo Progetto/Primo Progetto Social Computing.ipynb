{
 "cells": [
  {
   "cell_type": "code",
   "execution_count": 1,
   "metadata": {},
   "outputs": [],
   "source": [
    "# Importare le librerie\n",
    "import tweepy\n",
    "from dotenv import dotenv_values\n",
    "# Importare le variabili d'ambiente dal file .env\n",
    "config = dotenv_values(\".env\")"
   ]
  },
  {
   "cell_type": "code",
   "execution_count": 2,
   "metadata": {},
   "outputs": [],
   "source": [
    "# %load utils.py\n",
    "import json\n",
    "import os\n",
    "\n",
    "\n",
    "def serealize_json(folder, filename, data):\n",
    "    if not os.path.exists(folder):\n",
    "        os.makedirs(folder,exist_ok=True)\n",
    "    with open(f\"{folder}/{filename}.json\", \"w\", encoding=\"utf-8\") as f:\n",
    "        json.dump(data,f,ensure_ascii=False,indent=4)\n",
    "        f.close()\n",
    "    print(f\"Data serialized to path: {folder}/{filename}.json\")\n",
    "\n",
    "def read_json(path):\n",
    "    try:\n",
    "        if os.path.exists(path):\n",
    "            with open(path, \"r\", encoding=\"utf-8\") as file:\n",
    "                data = json.load(file)\n",
    "            return data\n",
    "    except ValueError:\n",
    "        print(\"Path not found, check the correctness of the path\")"
   ]
  },
  {
   "cell_type": "markdown",
   "metadata": {},
   "source": [
    "## Punto 1"
   ]
  },
  {
   "cell_type": "markdown",
   "metadata": {},
   "source": [
    "Creiamo un client Tweepy utilizzando il `BREARER_TOKEN` presente nel file `.env` e caricato tramite la libreria `dotenv`."
   ]
  },
  {
   "cell_type": "code",
   "execution_count": 3,
   "metadata": {},
   "outputs": [],
   "source": [
    "# Nuovo client Tweepy\n",
    "client = tweepy.Client(bearer_token=config[\"BEARER_TOKEN\"])"
   ]
  },
  {
   "cell_type": "markdown",
   "metadata": {},
   "source": [
    "Utilizzando la funzione `get_user()` inviamo la richiesta per ricavare le informazioni di default, aggiungiamo inoltre le opportune `user_fields` per ricavare ulteriori informazioni dell'utente, come descrizione, stato di protezione, metriche pubbliche.  \n",
    "Ricaviamo l'utente `kevin` dal corpo della risposta."
   ]
  },
  {
   "cell_type": "code",
   "execution_count": 4,
   "metadata": {},
   "outputs": [],
   "source": [
    "# Fetching dell'utente @KevinRoitero\n",
    "kevin = client.get_user(username=\"KevinRoitero\").data\n",
    "# Ricavo i followers di Kevin\n",
    "followers = client.get_users_followers(id=kevin.id).data\n",
    "# Inizializzo una lista dove andrò a mettere i follower con i dati aggiuntivi\n",
    "follower_list = []\n",
    "\n",
    "for follower in followers:\n",
    "    user = client.get_user(id=follower.id, user_fields=[\"public_metrics\", \"protected\", \"description\"]).data\n",
    "    user_dict = {\n",
    "        'id': user.id,\n",
    "        'name': user.name,\n",
    "        'username': user.username,\n",
    "        'description': user.description,\n",
    "        'public_metrics': user.public_metrics,\n",
    "        'protected': user.protected\n",
    "    }\n",
    "    follower_list.append(user_dict)\n",
    "\n",
    "# Serealizzo la lista in un file json\n",
    "serealize_json(\"out\", \"Kevin followers\", follower_list)"
   ]
  },
  {
   "cell_type": "markdown",
   "metadata": {},
   "source": [
    "## Punto 2"
   ]
  },
  {
   "cell_type": "markdown",
   "metadata": {},
   "source": [
    "Tramite la funzione `get_users_followers()` ricavo la lista dei follower che seguono l'utente `kevin`. Successivamente per ogni follower, tramite `get_recent_tweets_count()`, ricavo, con scadenza giornaliera, il numero dei tweets recenti (negli ultimi 7 giorni). Per ricavare un valore unico settimanale, sommo i valori giornalieri in una variabile denominata `last_week_tweets_count`. Infine creo una directory temporanea, rappresentativa del follower, aggiundo varie informazioni riguardante esso, come: id, nome, username e il numero di tweets recenti (calcolato precedentemente). Aggiungo la directory ad una lista precedentemente inizializzata e successivamente aggiunto tale lista all'interno della directory principale `kevin_dict` all'interno della voce `followers`."
   ]
  },
  {
   "cell_type": "code",
   "execution_count": 6,
   "metadata": {},
   "outputs": [
    {
     "name": "stdout",
     "output_type": "stream",
     "text": [
      "Data serialized to path: out/Kevin with followers.json\n"
     ]
    }
   ],
   "source": [
    "# Per ogni follower del profilo ricavare il numero di tweet pubblicati da quel profilo durante l'ultima settimana\n",
    "response = client.get_users_followers(id=kevin.id)\n",
    "followers = response.data\n",
    "follower_list = []\n",
    "for follower in followers:\n",
    "    last_week_tweets_count = 0\n",
    "    recent_tweets_count = client.get_recent_tweets_count(query=f\"from:{follower.username} -is:retweet\",granularity=\"day\")\n",
    "    for day in recent_tweets_count.data or []:\n",
    "            last_week_tweets_count += day[\"tweet_count\"]\n",
    "    dummy_follower_dict = {\n",
    "        \"id\": follower.id,\n",
    "        \"name\": follower.name,\n",
    "        \"username\": follower.username,\n",
    "        \"last_week_tweets_count\": last_week_tweets_count\n",
    "    }\n",
    "    follower_list.append(dummy_follower_dict)\n",
    "# Aggiungere il numero di tweets nel JSON\n",
    "kevin_dict[\"followers\"] = follower_list\n",
    "serealize_json(\"out\",\"Kevin with followers\", kevin_dict)"
   ]
  },
  {
   "cell_type": "markdown",
   "metadata": {},
   "source": [
    "## Punto 3"
   ]
  },
  {
   "cell_type": "code",
   "execution_count": null,
   "metadata": {},
   "outputs": [],
   "source": [
    "follower_list = []\n",
    "for follower in followers:\n",
    "    user = client.get_user(id=follower.id, user_fields=[\"public_metrics\", \"protected\"]).data\n",
    "    follower_count = user.public_metrics[\"followers_count\"]\n",
    "    if (follower_count > 1 and user.protected == False) {\n",
    "        \n",
    "    }"
   ]
  }
 ],
 "metadata": {
  "kernelspec": {
   "display_name": "Python 3.9.13 ('social_computing')",
   "language": "python",
   "name": "python3"
  },
  "language_info": {
   "codemirror_mode": {
    "name": "ipython",
    "version": 3
   },
   "file_extension": ".py",
   "mimetype": "text/x-python",
   "name": "python",
   "nbconvert_exporter": "python",
   "pygments_lexer": "ipython3",
   "version": "3.9.13"
  },
  "orig_nbformat": 4,
  "vscode": {
   "interpreter": {
    "hash": "c9dac6bcba8d7b6ee5750fa4415f946c83492df91f8530c6063dfde8898bd260"
   }
  }
 },
 "nbformat": 4,
 "nbformat_minor": 2
}
