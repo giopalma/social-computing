{
 "cells": [
  {
   "cell_type": "code",
   "execution_count": 2,
   "metadata": {},
   "outputs": [],
   "source": [
    "# Importare le librerie\n",
    "import tweepy\n",
    "from dotenv import dotenv_values\n",
    "# Importare le variabili d'ambiente dal file .env\n",
    "config = dotenv_values(\".env\")"
   ]
  },
  {
   "cell_type": "markdown",
   "metadata": {},
   "source": [
    "Definiamo le funzioni serealize_json e read_json che ci serviranno rispettivamente per salvare dati in locale e leggere file JSON da locale, servendoci delle librerie json e os."
   ]
  },
  {
   "cell_type": "code",
   "execution_count": 3,
   "metadata": {},
   "outputs": [],
   "source": [
    "# %load utils.py\n",
    "import json\n",
    "import os\n",
    "\n",
    "\n",
    "def serealize_json(folder, filename, data):\n",
    "    if not os.path.exists(folder):\n",
    "        os.makedirs(folder, exist_ok=True)\n",
    "    with open(f\"{folder}/{filename}.json\", \"w\", encoding=\"utf-8\") as f:\n",
    "        json.dump(data, f, ensure_ascii=False, indent=4)\n",
    "        f.close()\n",
    "    print(f\"Data serialized to path: {folder}/{filename}.json\")\n",
    "\n",
    "\n",
    "def read_json(path):\n",
    "    try:\n",
    "        if os.path.exists(path):\n",
    "            with open(path, \"r\", encoding=\"utf-8\") as file:\n",
    "                data = json.load(file)\n",
    "            return data\n",
    "    except ValueError:\n",
    "        print(\"Path not found, check the correctness of the path\")\n"
   ]
  },
  {
   "cell_type": "markdown",
   "metadata": {},
   "source": [
    "Utilizzo la libreria Tweepy per creare un client. Esso interagirà con la Twitter API. La libreria Tweepy permette di astrarre le chiamate HTTP per interagire con la Twitter API semplificandone l'utilizzo.\n"
   ]
  },
  {
   "cell_type": "markdown",
   "metadata": {},
   "source": [
    "Creiamo un client Tweepy utilizzando il `BREARER_TOKEN` presente nel file `.env` e caricato tramite la libreria `dotenv`.\n"
   ]
  },
  {
   "cell_type": "code",
   "execution_count": 4,
   "metadata": {},
   "outputs": [],
   "source": [
    "# Nuovo client Tweepy\n",
    "client = tweepy.Client(\n",
    "    bearer_token=config[\"BEARER_TOKEN\"], wait_on_rate_limit=True)\n"
   ]
  },
  {
   "cell_type": "markdown",
   "metadata": {},
   "source": [
    "Creo una funzione generica get_parsed_users_followers(id) che mi restituisce un dizionario di tutti i follower di un utente e per ciascuno di essi le seguenti informazioni salvate: attributi di default, descrizione del profilo, metriche pubbliche e se l'account è protetto. \n",
    "Questa funzione verrà spesso utilizzata successivamente."
   ]
  },
  {
   "cell_type": "code",
   "execution_count": 5,
   "metadata": {},
   "outputs": [],
   "source": [
    "def get_parsed_users_followers(id):\n",
    "    followers = {}\n",
    "    paginator = tweepy.Paginator(client.get_users_followers, id=id, user_fields=[\n",
    "                                 \"public_metrics\", \"protected\", \"description\"], max_results=1000, limit=5).flatten(limit=1000)\n",
    "    for follower in paginator:\n",
    "        found_follower = {\n",
    "            'name': follower.name,\n",
    "            'username': follower.username,\n",
    "            'description': follower.description,\n",
    "            'public_metrics': follower.public_metrics,\n",
    "            \"protected\": follower.protected\n",
    "        }\n",
    "        followers[follower.id] = found_follower\n",
    "    return followers\n"
   ]
  },
  {
   "cell_type": "markdown",
   "metadata": {},
   "source": [
    "## Punto 1\n",
    "Usando la libreria tweepy e la funzione get_parsed_users_followers(id) da noi definita nel punto precedente scarico tutti i follower del profilo twitter dell'utente con username @KevinRoitero, ciascuno con le seguenti informazioni: attributi di default, la descrizione del profilo, le metriche pubbliche e se l'account è protetto o no.\n"
   ]
  },
  {
   "cell_type": "code",
   "execution_count": null,
   "metadata": {},
   "outputs": [],
   "source": [
    "kevin = client.get_user(username=\"KevinRoitero\", user_fields=[\"public_metrics\", \"protected\", \"description\"]).data\n",
    "followers = get_parsed_users_followers(kevin.id)\n",
    "\n",
    "# print(f'Followers count: {len(followers)}')\n",
    "serealize_json(\"out\", \"followers\", followers)\n"
   ]
  },
  {
   "cell_type": "markdown",
   "metadata": {},
   "source": [
    "## Punto 2\n",
    "Per ciascun follower del profilo di @KevinRoitero utilizziamo tweepy per scaricare il numero di tweet pubblicati durante gli ultimi 7 giorni e aggiungiamo il risultato al JSON prodotto al punto 1."
   ]
  },
  {
   "cell_type": "code",
   "execution_count": null,
   "metadata": {},
   "outputs": [],
   "source": [
    "for id in followers:\n",
    "    last_week_tweets_count = 0\n",
    "    recent_tweets_count = client.get_recent_tweets_count(\n",
    "        query=f\"from:{followers[id]['username']} -is:retweet\", granularity=\"day\").data\n",
    "    for day in recent_tweets_count or []:\n",
    "        last_week_tweets_count += day[\"tweet_count\"]\n",
    "    # aggiungo alle info di follower anche last_week_tweets_count\n",
    "    followers[id]['last_week_tweets_count'] = last_week_tweets_count\n",
    "# Aggiungere il numero di tweets nel JSON\n",
    "serealize_json(\"out\", \"followers\", followers)\n"
   ]
  },
  {
   "cell_type": "markdown",
   "metadata": {},
   "source": [
    "## Punto 3\n"
   ]
  },
  {
   "cell_type": "code",
   "execution_count": 19,
   "metadata": {},
   "outputs": [],
   "source": [
    "# filtro la lista di follower di kevin scegliendo solo i follower che hanno a loro volta almeno un follower e non sono protected\n",
    "follower_id_filtrati = []\n",
    "\n",
    "for id in followers:\n",
    "    follower_count = followers[id][\"public_metrics\"][\"followers_count\"]\n",
    "    protected = followers[id][\"protected\"]\n",
    "\n",
    "    if (follower_count > 1 and protected == False):\n",
    "        follower_id_filtrati.append(id)\n"
   ]
  },
  {
   "cell_type": "code",
   "execution_count": null,
   "metadata": {},
   "outputs": [],
   "source": [
    "for id in follower_id_filtrati:\n",
    "    sub_followers = get_parsed_users_followers(id)\n",
    "    followers[id][\"followers\"] = sub_followers\n",
    "\n",
    "serealize_json(\"out\", \"followers\", followers)"
   ]
  },
  {
   "cell_type": "markdown",
   "metadata": {},
   "source": [
    "## Punto Pre-4\n",
    "Dato che il punto 3 impega circa 2 ore per generare tutti i dati, li abbiamo salvati all'interno di un file JSON. Per leggere tale file usiamo la funzione `read_json()` "
   ]
  },
  {
   "cell_type": "code",
   "execution_count": 1,
   "metadata": {},
   "outputs": [
    {
     "ename": "NameError",
     "evalue": "name 'read_json' is not defined",
     "output_type": "error",
     "traceback": [
      "\u001b[0;31m---------------------------------------------------------------------------\u001b[0m",
      "\u001b[0;31mNameError\u001b[0m                                 Traceback (most recent call last)",
      "\u001b[0;32m/tmp/ipykernel_11227/1779904264.py\u001b[0m in \u001b[0;36m<module>\u001b[0;34m\u001b[0m\n\u001b[0;32m----> 1\u001b[0;31m \u001b[0mfollowers\u001b[0m \u001b[0;34m=\u001b[0m \u001b[0mread_json\u001b[0m\u001b[0;34m(\u001b[0m\u001b[0;34m\"./out/followers_completed.json\"\u001b[0m\u001b[0;34m)\u001b[0m\u001b[0;34m\u001b[0m\u001b[0;34m\u001b[0m\u001b[0m\n\u001b[0m",
      "\u001b[0;31mNameError\u001b[0m: name 'read_json' is not defined"
     ]
    }
   ],
   "source": [
    "followers = read_json(\"./out/followers_completed.json\")"
   ]
  },
  {
   "cell_type": "markdown",
   "metadata": {},
   "source": [
    "## Punto 4\n"
   ]
  },
  {
   "cell_type": "code",
   "execution_count": 8,
   "metadata": {},
   "outputs": [],
   "source": [
    "import networkx as nx"
   ]
  },
  {
   "cell_type": "code",
   "execution_count": 9,
   "metadata": {},
   "outputs": [],
   "source": [
    "def get_follower_attributes(id):\n",
    "    return {\n",
    "        'username': followers[id]['username'],\n",
    "        'description': followers[id]['description'],\n",
    "        'followers_count': followers[id]['public_metrics']['followers_count']\n",
    "    }"
   ]
  },
  {
   "cell_type": "code",
   "execution_count": 10,
   "metadata": {},
   "outputs": [],
   "source": [
    "graph1 = nx.DiGraph()\n",
    "\n",
    "graph1.add_node(kevin.id,attr={\n",
    "    'username': kevin.username,\n",
    "    'description': kevin.description,\n",
    "    'followers_count': kevin.public_metrics['followers_count']\n",
    "})\n",
    "for id in followers:\n",
    "    graph1.add_node(id, attr=get_follower_attributes(id))\n"
   ]
  },
  {
   "cell_type": "code",
   "execution_count": 11,
   "metadata": {},
   "outputs": [],
   "source": [
    "# Check if A follow B\n",
    "def follow_check(A, B):\n",
    "    if (\"followers\" in followers[B]):\n",
    "        if A in followers[B][\"followers\"]:\n",
    "            return True\n",
    "        return False\n",
    "\n",
    "\n",
    "for A in followers:\n",
    "    graph1.add_edge(A,kevin.id)\n",
    "\n",
    "for A in followers:\n",
    "    for B in followers:\n",
    "        if follow_check(A, B):\n",
    "            graph1.add_edge(A,B)\n"
   ]
  },
  {
   "cell_type": "markdown",
   "metadata": {},
   "source": [
    "## Punto 5"
   ]
  },
  {
   "cell_type": "code",
   "execution_count": 12,
   "metadata": {},
   "outputs": [],
   "source": [
    "graph2 = graph1.to_undirected()\n",
    "graph2 = nx.barabasi_albert_graph(n = graph2.number_of_nodes()*2, m = 2, initial_graph=graph2)"
   ]
  },
  {
   "cell_type": "markdown",
   "metadata": {},
   "source": [
    "## Punto 6"
   ]
  },
  {
   "cell_type": "markdown",
   "metadata": {},
   "source": [
    "Grafici Grafo 1"
   ]
  },
  {
   "cell_type": "code",
   "execution_count": null,
   "metadata": {},
   "outputs": [],
   "source": [
    "# Grafico interattivo\n",
    "import pyvis\n",
    "\n",
    "visual_graph1 = pyvis.network.Network(height=\"100vh\", notebook=True)\n",
    "visual_graph1.barnes_hut()\n",
    "visual_graph1.from_nx(graph1)\n",
    "visual_graph1.show(\"graphs/grafico1_interattivo.html\")\n",
    "\n",
    "\n",
    "# Grafico statico\n",
    "from netgraph import Graph\n",
    "import matplotlib.pyplot as plt\n",
    "\n",
    "d = dict(graph1.degree)\n",
    "for x in d:\n",
    "    d[x] = float(d[x])\n",
    "    d[x] = d[x]/30\n",
    "\n",
    "Graph(\n",
    "    graph = graph1,\n",
    "    arrows=True,\n",
    "    edge_width=0.5,\n",
    "    node_size=d,\n",
    "    node_layout=\"spring\",\n",
    ")\n",
    "\n",
    "fig = plt.gcf()\n",
    "fig.set_size_inches(18.5, 10.5)\n",
    "fig.savefig(\"graphs/grafico1_statico.pdf\", dpi=100)\n",
    "plt.show()"
   ]
  },
  {
   "cell_type": "markdown",
   "metadata": {},
   "source": [
    "Grafici Grafo 2"
   ]
  },
  {
   "cell_type": "code",
   "execution_count": null,
   "metadata": {},
   "outputs": [],
   "source": [
    "# Grafico interattivo\n",
    "visual_graph2 = pyvis.network.Network(height=\"100vh\", notebook=True)\n",
    "visual_graph2.barnes_hut()\n",
    "visual_graph2.from_nx(graph2)\n",
    "visual_graph2.show(\"graphs/grafico2_interattivo.html\")\n",
    "\n",
    "\n",
    "# Grafico statico\n",
    "from netgraph import Graph\n",
    "import matplotlib.pyplot as plt\n",
    "\n",
    "d = dict(graph2.degree)\n",
    "for x in d:   \n",
    "    d[x] = float(d[x])\n",
    "    d[x] = d[x]/30\n",
    "    \n",
    "Graph(\n",
    "    graph = graph2,\n",
    "    arrows=False,\n",
    "    edge_width=0.5,\n",
    "    node_size=d,\n",
    "    node_layout=\"spring\"\n",
    ")\n",
    "\n",
    "fig = plt.gcf()\n",
    "fig.set_size_inches(18.5, 10.5)\n",
    "fig.savefig(\"graphs/grafico2_statico.pdf\", dpi=100)\n",
    "plt.show()"
   ]
  },
  {
   "cell_type": "markdown",
   "metadata": {},
   "source": [
    "## Punto 7"
   ]
  },
  {
   "cell_type": "code",
   "execution_count": null,
   "metadata": {},
   "outputs": [],
   "source": [
    "def grafico(graph,scc):\n",
    "    d = dict(graph.degree)\n",
    "    for x in d:\n",
    "        d[x] = float(d[x])\n",
    "        d[x] = d[x]/30\n",
    "\n",
    "    nodes = graph.nodes\n",
    "    node_colors = dict()\n",
    "    for node in nodes:\n",
    "        if node in scc:\n",
    "            node_colors[node] = 'red'\n",
    "        else:\n",
    "            node_colors[node] = 'black'\n",
    "    Graph(\n",
    "        graph=graph,\n",
    "        edge_width=0.5,\n",
    "        node_size=d,\n",
    "        node_color=node_colors,\n",
    "        node_layout=\"spring\",\n",
    "    )\n",
    "\n",
    "scc1 = max(nx.strongly_connected_components(G=graph1), key=len)\n",
    "# scc2 = max(nx.strongly_connected_components(G=graph2), key=len)\n",
    "scc2 = max(nx.connected_components(G=graph2), key=len)\n",
    "\n",
    "# TODO: Salvare i grafici in un file\n",
    "plt.figure(1)\n",
    "grafico(graph1,scc1)\n",
    "plt.figure(2)\n",
    "grafico(graph2,scc2)\n",
    "plt.show()\n"
   ]
  },
  {
   "cell_type": "markdown",
   "metadata": {},
   "source": [
    "## Punto 8"
   ]
  },
  {
   "cell_type": "code",
   "execution_count": null,
   "metadata": {},
   "outputs": [],
   "source": [
    "# TODO: Solito problema, non funziona nulla\n",
    "print(list(nx.radius(graph1)))"
   ]
  },
  {
   "cell_type": "markdown",
   "metadata": {},
   "source": [
    "## Punto 9"
   ]
  },
  {
   "cell_type": "code",
   "execution_count": 21,
   "metadata": {},
   "outputs": [],
   "source": [
    "def draw(graph, pos, measures, measure_name):\n",
    "    nodes = nx.draw_networkx_nodes(\n",
    "        graph,\n",
    "        pos,\n",
    "        node_size=150,\n",
    "        cmap=plt.cm.plasma,\n",
    "        node_color=list(measures.values()),\n",
    "        nodelist=measures.keys()\n",
    "    )\n",
    "    edges = nx.draw_networkx_edges(graph,pos)\n",
    "    plt.title(measure_name)\n",
    "    plt.colorbar(nodes)\n",
    "    plt.axis('off')"
   ]
  },
  {
   "cell_type": "code",
   "execution_count": null,
   "metadata": {},
   "outputs": [],
   "source": [
    "# TODO: Questi dati devono essere mostrati tutti in diversi grafici\n",
    "def centrality(graph):\n",
    "    plt.figure()\n",
    "    draw(\n",
    "        graph,\n",
    "        nx.spring_layout(graph),\n",
    "        nx.betweenness_centrality(graph),\n",
    "        'Betweenness Centrality'\n",
    "    )\n",
    "    plt.figure()\n",
    "    draw(\n",
    "        graph,\n",
    "        nx.spring_layout(graph),\n",
    "        nx.closeness_centrality(graph),\n",
    "        'Closeness Centrality'\n",
    "    )\n",
    "    plt.figure()\n",
    "    draw(\n",
    "        graph,\n",
    "        nx.spring_layout(graph),\n",
    "        nx.degree_centrality(graph),\n",
    "        'Degree Centrality'\n",
    "    )\n",
    "    if nx.is_directed(graph):\n",
    "        plt.figure()\n",
    "        draw(\n",
    "            graph,\n",
    "            nx.spring_layout(graph),\n",
    "            nx.in_degree_centrality(graph),\n",
    "            'In-Degree Centrality'\n",
    "        )\n",
    "    if nx.is_directed(graph):\n",
    "        plt.figure()\n",
    "        draw(\n",
    "            graph,\n",
    "            nx.spring_layout(graph),\n",
    "            nx.out_degree_centrality(graph),\n",
    "            'Out-Degree Centrality'\n",
    "        )\n",
    "    plt.figure()\n",
    "    draw(\n",
    "        graph,\n",
    "        nx.spring_layout(graph),\n",
    "        nx.pagerank(graph),\n",
    "        'Page Rank'\n",
    "    )\n",
    "    plt.figure()\n",
    "    # TODO: Grafico HITS non funziona\n",
    "    draw(\n",
    "        graph,\n",
    "        nx.spring_layout(graph),\n",
    "        nx.hits(graph),\n",
    "        'HITS'\n",
    "    )\n",
    "    plt.show()\n",
    "\n",
    "# TODO: Salvare i grafici in un file\n",
    "centrality(graph1)\n",
    "centrality(graph2)"
   ]
  },
  {
   "cell_type": "markdown",
   "metadata": {},
   "source": [
    "## Punto 10"
   ]
  },
  {
   "cell_type": "code",
   "execution_count": 35,
   "metadata": {},
   "outputs": [],
   "source": [
    "omega = nx.omega(graph2)\n",
    "sigma = nx.sigma(graph2)\n",
    "print('small-world coefficient')\n",
    "print(f'Omega: {omega}\\nSigma: {sigma}')"
   ]
  }
 ],
 "metadata": {
  "kernelspec": {
   "display_name": "Python 3.9.13 ('social_computing')",
   "language": "python",
   "name": "python3"
  },
  "language_info": {
   "codemirror_mode": {
    "name": "ipython",
    "version": 3
   },
   "file_extension": ".py",
   "mimetype": "text/x-python",
   "name": "python",
   "nbconvert_exporter": "python",
   "pygments_lexer": "ipython3",
   "version": "3.9.13"
  },
  "orig_nbformat": 4,
  "vscode": {
   "interpreter": {
    "hash": "c9dac6bcba8d7b6ee5750fa4415f946c83492df91f8530c6063dfde8898bd260"
   }
  }
 },
 "nbformat": 4,
 "nbformat_minor": 2
}
