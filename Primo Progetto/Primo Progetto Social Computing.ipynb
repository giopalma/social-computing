{
 "cells": [
  {
   "cell_type": "code",
   "execution_count": 7,
   "metadata": {},
   "outputs": [],
   "source": [
    "# Importare le librerie\n",
    "import tweepy\n",
    "from dotenv import dotenv_values\n",
    "# Importare le variabili d'ambiente dal file .env\n",
    "config = dotenv_values(\".env\")"
   ]
  },
  {
   "cell_type": "code",
   "execution_count": 8,
   "metadata": {},
   "outputs": [],
   "source": [
    "# %load utils.py\n",
    "import json\n",
    "import os\n",
    "\n",
    "\n",
    "def serealize_json(folder, filename, data):\n",
    "    if not os.path.exists(folder):\n",
    "        os.makedirs(folder,exist_ok=True)\n",
    "    with open(f\"{folder}/{filename}.json\", \"w\", encoding=\"utf-8\") as f:\n",
    "        json.dump(data,f,ensure_ascii=False,indent=4)\n",
    "        f.close()\n",
    "    print(f\"Data serialized to path: {folder}/{filename}.json\")\n",
    "\n",
    "def read_json(path):\n",
    "    try:\n",
    "        if os.path.exists(path):\n",
    "            with open(path, \"r\", encoding=\"utf-8\") as file:\n",
    "                data = json.load(file)\n",
    "            return data\n",
    "    except ValueError:\n",
    "        print(\"Path not found, check the correctness of the path\")"
   ]
  },
  {
   "cell_type": "markdown",
   "metadata": {},
   "source": [
    "## Punto 1"
   ]
  },
  {
   "cell_type": "markdown",
   "metadata": {},
   "source": [
    "Creiamo un client Tweepy utilizzando il `BREARER_TOKEN` presente nel file `.env` e caricato tramite la libreria `dotenv`."
   ]
  },
  {
   "cell_type": "code",
   "execution_count": 9,
   "metadata": {},
   "outputs": [],
   "source": [
    "# Nuovo client Tweepy\n",
    "client = tweepy.Client(bearer_token=config[\"BEARER_TOKEN\"])"
   ]
  },
  {
   "cell_type": "markdown",
   "metadata": {},
   "source": [
    "Utilizzando la funzione `get_user()` inviamo la richiesta per ricavare le informazioni di default, aggiungiamo inoltre le opportune `user_fields` per ricavare ulteriori informazioni dell'utente, come descrizione, stato di protezione, metriche pubbliche.  \n",
    "Ricaviamo l'utente `kevin` dal corpo della risposta."
   ]
  },
  {
   "cell_type": "code",
   "execution_count": 26,
   "metadata": {},
   "outputs": [
    {
     "name": "stdout",
     "output_type": "stream",
     "text": [
      "Data serialized to path: out/Kevin.json\n"
     ]
    }
   ],
   "source": [
    "# Fetching dell'utente @KevinRoitero\n",
    "kevin = client.get_user(username=\"KevinRoitero\").data\n",
    "# Ricavo i followers di Kevin\n",
    "followers = client.get_users_followers(id=kevin.id).data\n",
    "# Inizializzo una lista dove andrò a mettere i follower con i dati aggiuntivi\n",
    "follower_list = []\n",
    "\n",
    "for follower in followers:\n",
    "    user = client.get_user(id=follower.id, user_fields=[\"public_metrics\", \"protected\", \"description\"]).data\n",
    "    user_dict = {\n",
    "        'id': user.id,\n",
    "        'name': user.name,\n",
    "        'username': user.username,\n",
    "        'description': user.description,\n",
    "        'public_metrics': user.public_metrics,\n",
    "        'protected': user.protected\n",
    "    }\n",
    "    follower_list.append(user_dict)\n",
    "\n",
    "# Serealizzo la lista in un file json\n",
    "serealize_json(\"out\", \"Kevin\", follower_list)"
   ]
  },
  {
   "cell_type": "markdown",
   "metadata": {},
   "source": [
    "## Punto 2"
   ]
  },
  {
   "cell_type": "markdown",
   "metadata": {},
   "source": [
    "Tramite la funzione `get_users_followers()` ricavo la lista dei follower che seguono l'utente `kevin`. Successivamente per ogni follower, tramite `get_recent_tweets_count()`, ricavo, con scadenza giornaliera, il numero dei tweets recenti (negli ultimi 7 giorni). Per ricavare un valore unico settimanale, sommo i valori giornalieri in una variabile denominata `last_week_tweets_count`. Infine creo una directory temporanea, rappresentativa del follower, aggiundo varie informazioni riguardante esso, come: id, nome, username e il numero di tweets recenti (calcolato precedentemente). Aggiungo la directory ad una lista precedentemente inizializzata e successivamente aggiunto tale lista all'interno della directory principale `kevin_dict` all'interno della voce `followers`."
   ]
  },
  {
   "cell_type": "code",
   "execution_count": 27,
   "metadata": {},
   "outputs": [
    {
     "name": "stdout",
     "output_type": "stream",
     "text": [
      "Data serialized to path: out/Kevin.json\n"
     ]
    }
   ],
   "source": [
    "# Per ogni follower del profilo ricavare il numero di tweet pubblicati da quel profilo durante l'ultima settimana\n",
    "for follower in follower_list:\n",
    "    last_week_tweets_count = 0\n",
    "    recent_tweets_count = client.get_recent_tweets_count(query=f\"from:{follower['username']} -is:retweet\",granularity=\"day\").data\n",
    "    for day in recent_tweets_count or []:\n",
    "            last_week_tweets_count += day[\"tweet_count\"]\n",
    "    follower['last_week_tweets_count'] = last_week_tweets_count #aggiungo alle info di follower anche last_week_tweets_count\n",
    "# Aggiungere il numero di tweets nel JSON\n",
    "serealize_json(\"out\",\"Kevin\", follower_list)"
   ]
  },
  {
   "cell_type": "markdown",
   "metadata": {},
   "source": [
    "## Punto 3"
   ]
  },
  {
   "cell_type": "code",
   "execution_count": 29,
   "metadata": {},
   "outputs": [
    {
     "ename": "NotFound",
     "evalue": "404 Not Found",
     "output_type": "error",
     "traceback": [
      "\u001b[1;31m---------------------------------------------------------------------------\u001b[0m",
      "\u001b[1;31mNotFound\u001b[0m                                  Traceback (most recent call last)",
      "Cell \u001b[1;32mIn [29], line 15\u001b[0m\n\u001b[0;32m     13\u001b[0m all_followers \u001b[39m=\u001b[39m {}  \n\u001b[0;32m     14\u001b[0m \u001b[39mfor\u001b[39;00m current_user \u001b[39min\u001b[39;00m follower_filtrati: \u001b[39m#per ogni utente tra gli utenti della lista filtrata di followers di kevin\u001b[39;00m\n\u001b[1;32m---> 15\u001b[0m     response \u001b[39m=\u001b[39m client\u001b[39m.\u001b[39;49mget_user(username\u001b[39m=\u001b[39;49mcurrent_user) \u001b[39m#lo identifico\u001b[39;00m\n\u001b[0;32m     16\u001b[0m     user_id \u001b[39m=\u001b[39m response\u001b[39m.\u001b[39mdata\u001b[39m.\u001b[39mid\n\u001b[0;32m     17\u001b[0m     username\u001b[39m=\u001b[39mresponse\u001b[39m.\u001b[39mdata\u001b[39m.\u001b[39musername\n",
      "File \u001b[1;32md:\\conda\\lib\\site-packages\\tweepy\\client.py:2441\u001b[0m, in \u001b[0;36mClient.get_user\u001b[1;34m(self, id, username, user_auth, **params)\u001b[0m\n\u001b[0;32m   2438\u001b[0m \u001b[39melse\u001b[39;00m:\n\u001b[0;32m   2439\u001b[0m     \u001b[39mraise\u001b[39;00m \u001b[39mTypeError\u001b[39;00m(\u001b[39m\"\u001b[39m\u001b[39mID or username is required\u001b[39m\u001b[39m\"\u001b[39m)\n\u001b[1;32m-> 2441\u001b[0m \u001b[39mreturn\u001b[39;00m \u001b[39mself\u001b[39;49m\u001b[39m.\u001b[39;49m_make_request(\n\u001b[0;32m   2442\u001b[0m     \u001b[39m\"\u001b[39;49m\u001b[39mGET\u001b[39;49m\u001b[39m\"\u001b[39;49m, route, params\u001b[39m=\u001b[39;49mparams,\n\u001b[0;32m   2443\u001b[0m     endpoint_parameters\u001b[39m=\u001b[39;49m(\u001b[39m\"\u001b[39;49m\u001b[39mexpansions\u001b[39;49m\u001b[39m\"\u001b[39;49m, \u001b[39m\"\u001b[39;49m\u001b[39mtweet.fields\u001b[39;49m\u001b[39m\"\u001b[39;49m, \u001b[39m\"\u001b[39;49m\u001b[39muser.fields\u001b[39;49m\u001b[39m\"\u001b[39;49m),\n\u001b[0;32m   2444\u001b[0m     data_type\u001b[39m=\u001b[39;49mUser, user_auth\u001b[39m=\u001b[39;49muser_auth\n\u001b[0;32m   2445\u001b[0m )\n",
      "File \u001b[1;32md:\\conda\\lib\\site-packages\\tweepy\\client.py:129\u001b[0m, in \u001b[0;36mBaseClient._make_request\u001b[1;34m(self, method, route, params, endpoint_parameters, json, data_type, user_auth)\u001b[0m\n\u001b[0;32m    123\u001b[0m \u001b[39mdef\u001b[39;00m \u001b[39m_make_request\u001b[39m(\n\u001b[0;32m    124\u001b[0m     \u001b[39mself\u001b[39m, method, route, params\u001b[39m=\u001b[39m{}, endpoint_parameters\u001b[39m=\u001b[39m(), json\u001b[39m=\u001b[39m\u001b[39mNone\u001b[39;00m,\n\u001b[0;32m    125\u001b[0m     data_type\u001b[39m=\u001b[39m\u001b[39mNone\u001b[39;00m, user_auth\u001b[39m=\u001b[39m\u001b[39mFalse\u001b[39;00m\n\u001b[0;32m    126\u001b[0m ):\n\u001b[0;32m    127\u001b[0m     request_params \u001b[39m=\u001b[39m \u001b[39mself\u001b[39m\u001b[39m.\u001b[39m_process_params(params, endpoint_parameters)\n\u001b[1;32m--> 129\u001b[0m     response \u001b[39m=\u001b[39m \u001b[39mself\u001b[39;49m\u001b[39m.\u001b[39;49mrequest(method, route, params\u001b[39m=\u001b[39;49mrequest_params,\n\u001b[0;32m    130\u001b[0m                             json\u001b[39m=\u001b[39;49mjson, user_auth\u001b[39m=\u001b[39;49muser_auth)\n\u001b[0;32m    132\u001b[0m     \u001b[39mif\u001b[39;00m \u001b[39mself\u001b[39m\u001b[39m.\u001b[39mreturn_type \u001b[39mis\u001b[39;00m requests\u001b[39m.\u001b[39mResponse:\n\u001b[0;32m    133\u001b[0m         \u001b[39mreturn\u001b[39;00m response\n",
      "File \u001b[1;32md:\\conda\\lib\\site-packages\\tweepy\\client.py:102\u001b[0m, in \u001b[0;36mBaseClient.request\u001b[1;34m(self, method, route, params, json, user_auth)\u001b[0m\n\u001b[0;32m    100\u001b[0m     \u001b[39mraise\u001b[39;00m Forbidden(response)\n\u001b[0;32m    101\u001b[0m \u001b[39mif\u001b[39;00m response\u001b[39m.\u001b[39mstatus_code \u001b[39m==\u001b[39m \u001b[39m404\u001b[39m:\n\u001b[1;32m--> 102\u001b[0m     \u001b[39mraise\u001b[39;00m NotFound(response)\n\u001b[0;32m    103\u001b[0m \u001b[39mif\u001b[39;00m response\u001b[39m.\u001b[39mstatus_code \u001b[39m==\u001b[39m \u001b[39m429\u001b[39m:\n\u001b[0;32m    104\u001b[0m     \u001b[39mif\u001b[39;00m \u001b[39mself\u001b[39m\u001b[39m.\u001b[39mwait_on_rate_limit:\n",
      "\u001b[1;31mNotFound\u001b[0m: 404 Not Found"
     ]
    }
   ],
   "source": [
    "follower_filtrati = []  #filtro la lista di follower di kevin scegliendo solo i follower che hanno a lro volta almeno un follower e non sono protected\n",
    "\n",
    "for follower in follower_list: \n",
    "    \n",
    "    follower_count = follower[\"public_metrics\"][\"followers_count\"]\n",
    "    protected = follower[\"protected\"]\n",
    "   \n",
    "    if (follower_count > 1 and protected == False):\n",
    "        follower_filtrati.append(follower)\n",
    "\n",
    "\n",
    "\n",
    "all_followers = {}  \n",
    "for current_user in follower_filtrati: #per ogni utente tra gli utenti della lista filtrata di followers di kevin\n",
    "    response = client.get_user(username=current_user) #lo identifico\n",
    "    user_id = response.data.id\n",
    "    username=response.data.username\n",
    "    all_followers[username] = []\n",
    "\n",
    "    #per ogni follower di kevin scarico a sua volta 1000 suoi followers salvando per ciascuno di essi le stesse info del punto 1:\n",
    "    for current_user_followers in tweepy.Paginator(client.get_users_followers, id= user_id, user_fields=[\"description\", \"protected\", \"public_metrics\"], max_results = 1000): #uso paginator perchè non so a priori quanti follower abbiano\n",
    " \n",
    "\n",
    "        #Dato che user non è serializzabile direttamente come JSON, serve un parsing:\n",
    "        followers_of_followers=[]\n",
    "        for follower in current_user_followers.data:\n",
    "            found_follower = {\n",
    "                          \"id\": follower[\"id\"],\n",
    "                          \"name\": follower[\"name\"],\n",
    "                          \"username\": follower[\"username\"],\n",
    "                          \"description\":follower[\"description\"],\n",
    "                          \"public metrics\":follower[\"public metrics\"],\n",
    "                          \"protected\": follower[\"protected\"],\n",
    "                         # \"last_week_tweets_count\": follower[\"last_week_tweets_count\"],  #? ci va anche qui?\n",
    "                         # \"followers\": follower[\"all_followers[username]\"]  #?ci va anche qui?\n",
    "                        }\n",
    "\n",
    "            \n",
    "            followers_of_followers.append(found_follower) #inserisco i dati di found_follower nell'array followers_of_followers\n",
    "       \n",
    "        all_followers[username] += followers_of_followers #aggiungo l'informazione: username di tutti i followers all'array followers_of_followers\n",
    "        followers_of_followers[last_week_tweets_count] += last_week_tweets_count #aggiungo l'informazione: last_week_tweets_count all'array followers_of_followers\n",
    "\n",
    "serialize_json(data_folder, \"follower filtrati.json\", all_followers)"
   ]
  }
 ],
 "metadata": {
  "kernelspec": {
   "display_name": "Python 3.9.12 ('base')",
   "language": "python",
   "name": "python3"
  },
  "language_info": {
   "codemirror_mode": {
    "name": "ipython",
    "version": 3
   },
   "file_extension": ".py",
   "mimetype": "text/x-python",
   "name": "python",
   "nbconvert_exporter": "python",
   "pygments_lexer": "ipython3",
   "version": "3.9.12"
  },
  "orig_nbformat": 4,
  "vscode": {
   "interpreter": {
    "hash": "a04f5d07b0747026a8fbcdf50b9443318e69b1b8bd6247d88bfadb4789282972"
   }
  }
 },
 "nbformat": 4,
 "nbformat_minor": 2
}
